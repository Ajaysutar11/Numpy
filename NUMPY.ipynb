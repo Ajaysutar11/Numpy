{
 "cells": [
  {
   "cell_type": "code",
   "execution_count": 1,
   "id": "683467a3",
   "metadata": {},
   "outputs": [],
   "source": [
    "import numpy"
   ]
  },
  {
   "cell_type": "code",
   "execution_count": 2,
   "id": "3c15a735",
   "metadata": {},
   "outputs": [],
   "source": [
    "A = numpy.array([10,20,30,40,50])"
   ]
  },
  {
   "cell_type": "code",
   "execution_count": 3,
   "id": "d713f5d9",
   "metadata": {},
   "outputs": [
    {
     "data": {
      "text/plain": [
       "array([10, 20, 30, 40, 50])"
      ]
     },
     "execution_count": 3,
     "metadata": {},
     "output_type": "execute_result"
    }
   ],
   "source": [
    "A"
   ]
  },
  {
   "cell_type": "code",
   "execution_count": 4,
   "id": "f95a7c41",
   "metadata": {},
   "outputs": [
    {
     "data": {
      "text/plain": [
       "10"
      ]
     },
     "execution_count": 4,
     "metadata": {},
     "output_type": "execute_result"
    }
   ],
   "source": [
    "A[0]"
   ]
  },
  {
   "cell_type": "code",
   "execution_count": 5,
   "id": "fb1f90d8",
   "metadata": {},
   "outputs": [
    {
     "data": {
      "text/plain": [
       "50"
      ]
     },
     "execution_count": 5,
     "metadata": {},
     "output_type": "execute_result"
    }
   ],
   "source": [
    "A[-1]"
   ]
  },
  {
   "cell_type": "code",
   "execution_count": 6,
   "id": "f4bfd366",
   "metadata": {},
   "outputs": [],
   "source": [
    "A[2] = 100"
   ]
  },
  {
   "cell_type": "code",
   "execution_count": 7,
   "id": "bf1fd7bb",
   "metadata": {},
   "outputs": [
    {
     "data": {
      "text/plain": [
       "array([ 10,  20, 100,  40,  50])"
      ]
     },
     "execution_count": 7,
     "metadata": {},
     "output_type": "execute_result"
    }
   ],
   "source": [
    "A"
   ]
  },
  {
   "cell_type": "code",
   "execution_count": 8,
   "id": "8bce0c3d",
   "metadata": {},
   "outputs": [
    {
     "name": "stdout",
     "output_type": "stream",
     "text": [
      "10\n",
      "20\n",
      "100\n",
      "40\n",
      "50\n"
     ]
    }
   ],
   "source": [
    "for i in A:\n",
    "    print(i)"
   ]
  },
  {
   "cell_type": "code",
   "execution_count": 9,
   "id": "b2d85cd3",
   "metadata": {},
   "outputs": [
    {
     "data": {
      "text/plain": [
       "array([ 10,  20, 100,  40,  50])"
      ]
     },
     "execution_count": 9,
     "metadata": {},
     "output_type": "execute_result"
    }
   ],
   "source": [
    "A"
   ]
  },
  {
   "cell_type": "code",
   "execution_count": 10,
   "id": "f54577a3",
   "metadata": {},
   "outputs": [
    {
     "data": {
      "text/plain": [
       "array([100,  40,  50])"
      ]
     },
     "execution_count": 10,
     "metadata": {},
     "output_type": "execute_result"
    }
   ],
   "source": [
    "A[2:]"
   ]
  },
  {
   "cell_type": "code",
   "execution_count": 1,
   "id": "9bd08bfe",
   "metadata": {},
   "outputs": [],
   "source": [
    "import numpy as np"
   ]
  },
  {
   "cell_type": "code",
   "execution_count": 12,
   "id": "c31e7f85",
   "metadata": {},
   "outputs": [
    {
     "data": {
      "text/plain": [
       "array([10, 14, 18])"
      ]
     },
     "execution_count": 12,
     "metadata": {},
     "output_type": "execute_result"
    }
   ],
   "source": [
    "B = np.arange(10,20,4)\n",
    "B"
   ]
  },
  {
   "cell_type": "code",
   "execution_count": 13,
   "id": "c8ce06b5",
   "metadata": {},
   "outputs": [
    {
     "data": {
      "text/plain": [
       "array([10, 11, 12, 13, 14, 15, 16, 17, 18, 19])"
      ]
     },
     "execution_count": 13,
     "metadata": {},
     "output_type": "execute_result"
    }
   ],
   "source": [
    "np.arange(10,20)"
   ]
  },
  {
   "cell_type": "code",
   "execution_count": 14,
   "id": "ea1dbc88",
   "metadata": {},
   "outputs": [
    {
     "data": {
      "text/plain": [
       "array([0, 1, 2, 3, 4, 5, 6, 7, 8, 9])"
      ]
     },
     "execution_count": 14,
     "metadata": {},
     "output_type": "execute_result"
    }
   ],
   "source": [
    "np.arange(10)"
   ]
  },
  {
   "cell_type": "markdown",
   "id": "4bbfdacd",
   "metadata": {},
   "source": [
    "# LINSPACE"
   ]
  },
  {
   "cell_type": "code",
   "execution_count": 15,
   "id": "498905e0",
   "metadata": {},
   "outputs": [
    {
     "data": {
      "text/plain": [
       "array([10., 11., 12., 13., 14., 15., 16., 17., 18., 19., 20.])"
      ]
     },
     "execution_count": 15,
     "metadata": {},
     "output_type": "execute_result"
    }
   ],
   "source": [
    "np.linspace(10,20,11)"
   ]
  },
  {
   "cell_type": "code",
   "execution_count": 19,
   "id": "51634f61",
   "metadata": {},
   "outputs": [
    {
     "data": {
      "text/plain": [
       "array([0. , 0.5, 1. , 1.5, 2. , 2.5, 3. , 3.5, 4. , 4.5, 5. ])"
      ]
     },
     "execution_count": 19,
     "metadata": {},
     "output_type": "execute_result"
    }
   ],
   "source": [
    "np.linspace(0,5,11)"
   ]
  },
  {
   "cell_type": "code",
   "execution_count": 20,
   "id": "10eaca5e",
   "metadata": {},
   "outputs": [
    {
     "data": {
      "text/plain": [
       "array([0.        , 0.12816327, 0.25632653, 0.3844898 , 0.51265306,\n",
       "       0.64081633, 0.76897959, 0.89714286, 1.02530612, 1.15346939,\n",
       "       1.28163265, 1.40979592, 1.53795918, 1.66612245, 1.79428571,\n",
       "       1.92244898, 2.05061224, 2.17877551, 2.30693878, 2.43510204,\n",
       "       2.56326531, 2.69142857, 2.81959184, 2.9477551 , 3.07591837,\n",
       "       3.20408163, 3.3322449 , 3.46040816, 3.58857143, 3.71673469,\n",
       "       3.84489796, 3.97306122, 4.10122449, 4.22938776, 4.35755102,\n",
       "       4.48571429, 4.61387755, 4.74204082, 4.87020408, 4.99836735,\n",
       "       5.12653061, 5.25469388, 5.38285714, 5.51102041, 5.63918367,\n",
       "       5.76734694, 5.8955102 , 6.02367347, 6.15183673, 6.28      ])"
      ]
     },
     "execution_count": 20,
     "metadata": {},
     "output_type": "execute_result"
    }
   ],
   "source": [
    "np.linspace(0,6.28,50)"
   ]
  },
  {
   "cell_type": "code",
   "execution_count": 2,
   "id": "11021816",
   "metadata": {},
   "outputs": [],
   "source": [
    "A = np.array([10,20,30,40,50,60]) # vector 6\n",
    "B = np.array([[10,20],[30,40],[50,60]]) # matrix 3,2"
   ]
  },
  {
   "cell_type": "code",
   "execution_count": 3,
   "id": "e44cffe2",
   "metadata": {},
   "outputs": [
    {
     "data": {
      "text/plain": [
       "1"
      ]
     },
     "execution_count": 3,
     "metadata": {},
     "output_type": "execute_result"
    }
   ],
   "source": [
    "A.ndim"
   ]
  },
  {
   "cell_type": "code",
   "execution_count": 4,
   "id": "97c1d9c8",
   "metadata": {},
   "outputs": [
    {
     "data": {
      "text/plain": [
       "2"
      ]
     },
     "execution_count": 4,
     "metadata": {},
     "output_type": "execute_result"
    }
   ],
   "source": [
    "B.ndim"
   ]
  },
  {
   "cell_type": "code",
   "execution_count": 5,
   "id": "d1930397",
   "metadata": {},
   "outputs": [
    {
     "data": {
      "text/plain": [
       "(6,)"
      ]
     },
     "execution_count": 5,
     "metadata": {},
     "output_type": "execute_result"
    }
   ],
   "source": [
    "A.shape"
   ]
  },
  {
   "cell_type": "code",
   "execution_count": 6,
   "id": "faab56f4",
   "metadata": {},
   "outputs": [
    {
     "data": {
      "text/plain": [
       "(3, 2)"
      ]
     },
     "execution_count": 6,
     "metadata": {},
     "output_type": "execute_result"
    }
   ],
   "source": [
    "B.shape"
   ]
  },
  {
   "cell_type": "code",
   "execution_count": 7,
   "id": "e5cb2ead",
   "metadata": {},
   "outputs": [
    {
     "name": "stderr",
     "output_type": "stream",
     "text": [
      "<ipython-input-7-24b4802b7437>:1: VisibleDeprecationWarning: Creating an ndarray from ragged nested sequences (which is a list-or-tuple of lists-or-tuples-or ndarrays with different lengths or shapes) is deprecated. If you meant to do this, you must specify 'dtype=object' when creating the ndarray\n",
      "  B = np.array([[10,20,1],[30,40],[50,60]])\n"
     ]
    }
   ],
   "source": [
    "B = np.array([[10,20,1],[30,40],[50,60]])"
   ]
  },
  {
   "cell_type": "code",
   "execution_count": 8,
   "id": "22d53909",
   "metadata": {},
   "outputs": [
    {
     "data": {
      "text/plain": [
       "array([list([10, 20, 1]), list([30, 40]), list([50, 60])], dtype=object)"
      ]
     },
     "execution_count": 8,
     "metadata": {},
     "output_type": "execute_result"
    }
   ],
   "source": [
    "B"
   ]
  },
  {
   "cell_type": "code",
   "execution_count": 9,
   "id": "5bf55818",
   "metadata": {},
   "outputs": [
    {
     "data": {
      "text/plain": [
       "1"
      ]
     },
     "execution_count": 9,
     "metadata": {},
     "output_type": "execute_result"
    }
   ],
   "source": [
    "B.ndim"
   ]
  },
  {
   "cell_type": "code",
   "execution_count": 10,
   "id": "e0e3cff7",
   "metadata": {},
   "outputs": [
    {
     "data": {
      "text/plain": [
       "(3,)"
      ]
     },
     "execution_count": 10,
     "metadata": {},
     "output_type": "execute_result"
    }
   ],
   "source": [
    "B.shape"
   ]
  },
  {
   "cell_type": "code",
   "execution_count": 11,
   "id": "21d87f75",
   "metadata": {},
   "outputs": [],
   "source": [
    "A = np.array([10,20,30,40,50,60]) # vector 6\n",
    "B = np.array([[10,20],[30,40],[50,60]]) # matrix 3,2"
   ]
  },
  {
   "cell_type": "code",
   "execution_count": 12,
   "id": "64b9c866",
   "metadata": {},
   "outputs": [
    {
     "data": {
      "text/plain": [
       "array([10, 20, 30, 40, 50, 60])"
      ]
     },
     "execution_count": 12,
     "metadata": {},
     "output_type": "execute_result"
    }
   ],
   "source": [
    "A"
   ]
  },
  {
   "cell_type": "code",
   "execution_count": 13,
   "id": "b0e96249",
   "metadata": {},
   "outputs": [
    {
     "data": {
      "text/plain": [
       "array([[10, 20],\n",
       "       [30, 40],\n",
       "       [50, 60]])"
      ]
     },
     "execution_count": 13,
     "metadata": {},
     "output_type": "execute_result"
    }
   ],
   "source": [
    "B"
   ]
  },
  {
   "cell_type": "code",
   "execution_count": 14,
   "id": "318e12e2",
   "metadata": {},
   "outputs": [
    {
     "data": {
      "text/plain": [
       "50"
      ]
     },
     "execution_count": 14,
     "metadata": {},
     "output_type": "execute_result"
    }
   ],
   "source": [
    "A[4]"
   ]
  },
  {
   "cell_type": "code",
   "execution_count": 15,
   "id": "e5bd20e4",
   "metadata": {},
   "outputs": [
    {
     "data": {
      "text/plain": [
       "50"
      ]
     },
     "execution_count": 15,
     "metadata": {},
     "output_type": "execute_result"
    }
   ],
   "source": [
    "B[2][0]"
   ]
  },
  {
   "cell_type": "code",
   "execution_count": 16,
   "id": "b0a4b874",
   "metadata": {},
   "outputs": [
    {
     "data": {
      "text/plain": [
       "array([50, 60])"
      ]
     },
     "execution_count": 16,
     "metadata": {},
     "output_type": "execute_result"
    }
   ],
   "source": [
    "B[2]"
   ]
  },
  {
   "cell_type": "code",
   "execution_count": 17,
   "id": "62359f24",
   "metadata": {},
   "outputs": [],
   "source": [
    "A = np.array([10,20,30,40])\n",
    "B = np.array([[10],[20],[30],[40]])\n",
    "C = np.array([[10,20,30,40]])"
   ]
  },
  {
   "cell_type": "code",
   "execution_count": 18,
   "id": "c47c6876",
   "metadata": {},
   "outputs": [
    {
     "data": {
      "text/plain": [
       "(4,)"
      ]
     },
     "execution_count": 18,
     "metadata": {},
     "output_type": "execute_result"
    }
   ],
   "source": [
    "A.shape"
   ]
  },
  {
   "cell_type": "code",
   "execution_count": 19,
   "id": "f8d06e8d",
   "metadata": {},
   "outputs": [
    {
     "data": {
      "text/plain": [
       "(4, 1)"
      ]
     },
     "execution_count": 19,
     "metadata": {},
     "output_type": "execute_result"
    }
   ],
   "source": [
    "B.shape"
   ]
  },
  {
   "cell_type": "code",
   "execution_count": 20,
   "id": "b0917d4b",
   "metadata": {},
   "outputs": [
    {
     "data": {
      "text/plain": [
       "(1, 4)"
      ]
     },
     "execution_count": 20,
     "metadata": {},
     "output_type": "execute_result"
    }
   ],
   "source": [
    "C.shape"
   ]
  },
  {
   "cell_type": "code",
   "execution_count": 21,
   "id": "e31b6972",
   "metadata": {},
   "outputs": [
    {
     "data": {
      "text/plain": [
       "(30, 30, 30)"
      ]
     },
     "execution_count": 21,
     "metadata": {},
     "output_type": "execute_result"
    }
   ],
   "source": [
    "A[2], B[2,0], C[0][2]"
   ]
  },
  {
   "cell_type": "markdown",
   "id": "b0cab17d",
   "metadata": {},
   "source": [
    "# Random Elements"
   ]
  },
  {
   "cell_type": "code",
   "execution_count": 28,
   "id": "2fc7d84f",
   "metadata": {},
   "outputs": [
    {
     "data": {
      "text/plain": [
       "array([ 5, 17,  7,  7, 16, 16, 13,  1, 13,  0,  3,  1,  4,  9,  3,  8,  9,\n",
       "        3, 16,  6, 11,  9,  4, 18,  5,  9,  7,  0, 12, 17,  4,  1,  6,  5,\n",
       "        5, 11, 17, 17,  2, 19, 17, 12, 11, 13,  8, 12, 19, 15, 18,  8])"
      ]
     },
     "execution_count": 28,
     "metadata": {},
     "output_type": "execute_result"
    }
   ],
   "source": [
    "np.random.randint(0,20,50)"
   ]
  },
  {
   "cell_type": "code",
   "execution_count": 33,
   "id": "446fc26e",
   "metadata": {},
   "outputs": [
    {
     "data": {
      "text/plain": [
       "array([[ 5, 13],\n",
       "       [ 0, 10],\n",
       "       [ 1,  0],\n",
       "       [15,  0],\n",
       "       [18, 14]])"
      ]
     },
     "execution_count": 33,
     "metadata": {},
     "output_type": "execute_result"
    }
   ],
   "source": [
    "np.random.randint(0,20,(5,2))"
   ]
  },
  {
   "cell_type": "code",
   "execution_count": 34,
   "id": "5f08b276",
   "metadata": {},
   "outputs": [
    {
     "data": {
      "text/plain": [
       "array([[20, 24, 23, 23, 24],\n",
       "       [22, 23, 22, 24, 23],\n",
       "       [20, 20, 21, 21, 23],\n",
       "       [20, 19, 21, 21, 20],\n",
       "       [19, 24, 20, 20, 24],\n",
       "       [19, 22, 20, 22, 24],\n",
       "       [23, 24, 21, 19, 23],\n",
       "       [22, 24, 21, 21, 22],\n",
       "       [24, 24, 21, 19, 24],\n",
       "       [22, 22, 24, 23, 24],\n",
       "       [22, 23, 23, 20, 22],\n",
       "       [22, 19, 23, 24, 19],\n",
       "       [22, 20, 22, 19, 23],\n",
       "       [23, 24, 24, 21, 23],\n",
       "       [21, 20, 23, 23, 20],\n",
       "       [19, 21, 19, 22, 19],\n",
       "       [21, 19, 23, 24, 21],\n",
       "       [22, 23, 22, 23, 22],\n",
       "       [22, 21, 24, 20, 24],\n",
       "       [23, 21, 22, 24, 20],\n",
       "       [19, 22, 20, 19, 22],\n",
       "       [19, 19, 19, 24, 23],\n",
       "       [23, 21, 19, 20, 19],\n",
       "       [20, 21, 23, 19, 24],\n",
       "       [21, 19, 23, 22, 24],\n",
       "       [22, 22, 23, 21, 23],\n",
       "       [21, 21, 21, 22, 21],\n",
       "       [19, 20, 23, 24, 22],\n",
       "       [19, 24, 21, 22, 23],\n",
       "       [22, 24, 22, 24, 21],\n",
       "       [23, 22, 24, 22, 23],\n",
       "       [23, 21, 23, 24, 23],\n",
       "       [22, 21, 23, 21, 20],\n",
       "       [21, 22, 23, 24, 20],\n",
       "       [20, 19, 20, 20, 24],\n",
       "       [23, 24, 19, 21, 19],\n",
       "       [21, 24, 23, 21, 19],\n",
       "       [21, 20, 24, 21, 23],\n",
       "       [19, 24, 21, 22, 22],\n",
       "       [22, 21, 24, 20, 24],\n",
       "       [22, 21, 24, 24, 20],\n",
       "       [23, 20, 22, 21, 19],\n",
       "       [24, 23, 19, 19, 23],\n",
       "       [21, 23, 22, 23, 24],\n",
       "       [20, 19, 22, 22, 19],\n",
       "       [24, 23, 22, 19, 23],\n",
       "       [19, 22, 19, 22, 23],\n",
       "       [24, 19, 24, 23, 24],\n",
       "       [19, 22, 20, 21, 21],\n",
       "       [22, 22, 24, 22, 21],\n",
       "       [23, 20, 21, 22, 21],\n",
       "       [21, 22, 24, 21, 20],\n",
       "       [22, 24, 21, 21, 24],\n",
       "       [24, 22, 21, 23, 20],\n",
       "       [21, 23, 19, 20, 20],\n",
       "       [21, 23, 21, 21, 19],\n",
       "       [19, 21, 22, 24, 22],\n",
       "       [20, 21, 19, 19, 24],\n",
       "       [23, 19, 24, 24, 21],\n",
       "       [23, 24, 22, 22, 22]])"
      ]
     },
     "execution_count": 34,
     "metadata": {},
     "output_type": "execute_result"
    }
   ],
   "source": [
    "np.random.randint(19,25,(60,5))"
   ]
  },
  {
   "cell_type": "code",
   "execution_count": 36,
   "id": "4c4060a8",
   "metadata": {},
   "outputs": [],
   "source": [
    "X = np.random.rand(5,3)"
   ]
  },
  {
   "cell_type": "code",
   "execution_count": 37,
   "id": "1f087e48",
   "metadata": {},
   "outputs": [
    {
     "data": {
      "text/plain": [
       "array([[1.  , 0.9 , 0.93],\n",
       "       [0.07, 0.37, 0.84],\n",
       "       [0.39, 0.33, 0.85],\n",
       "       [0.11, 0.76, 0.64],\n",
       "       [0.16, 0.88, 0.14]])"
      ]
     },
     "execution_count": 37,
     "metadata": {},
     "output_type": "execute_result"
    }
   ],
   "source": [
    "np.round(X,2)"
   ]
  },
  {
   "cell_type": "code",
   "execution_count": 38,
   "id": "8ab1dbe9",
   "metadata": {},
   "outputs": [
    {
     "data": {
      "text/plain": [
       "array([[0.99905719, 0.90208002, 0.92521109],\n",
       "       [0.07295612, 0.37449679, 0.84108477],\n",
       "       [0.38578876, 0.33334605, 0.8500093 ],\n",
       "       [0.10961488, 0.75967946, 0.63742357],\n",
       "       [0.16409961, 0.87954139, 0.14437349]])"
      ]
     },
     "execution_count": 38,
     "metadata": {},
     "output_type": "execute_result"
    }
   ],
   "source": [
    "X"
   ]
  },
  {
   "cell_type": "code",
   "execution_count": 40,
   "id": "c5952a5a",
   "metadata": {},
   "outputs": [
    {
     "data": {
      "text/plain": [
       "array([[0., 0.],\n",
       "       [0., 0.],\n",
       "       [0., 0.],\n",
       "       [0., 0.]])"
      ]
     },
     "execution_count": 40,
     "metadata": {},
     "output_type": "execute_result"
    }
   ],
   "source": [
    "np.zeros((4,2))"
   ]
  },
  {
   "cell_type": "code",
   "execution_count": 41,
   "id": "8bc04ed4",
   "metadata": {},
   "outputs": [
    {
     "data": {
      "text/plain": [
       "array([[1., 1., 1., 1., 1., 1., 1.],\n",
       "       [1., 1., 1., 1., 1., 1., 1.],\n",
       "       [1., 1., 1., 1., 1., 1., 1.],\n",
       "       [1., 1., 1., 1., 1., 1., 1.],\n",
       "       [1., 1., 1., 1., 1., 1., 1.]])"
      ]
     },
     "execution_count": 41,
     "metadata": {},
     "output_type": "execute_result"
    }
   ],
   "source": [
    "np.ones((5,7))"
   ]
  },
  {
   "cell_type": "code",
   "execution_count": 42,
   "id": "326cc151",
   "metadata": {},
   "outputs": [
    {
     "ename": "AttributeError",
     "evalue": "module 'numpy' has no attribute 'twos'",
     "output_type": "error",
     "traceback": [
      "\u001b[1;31m---------------------------------------------------------------------------\u001b[0m",
      "\u001b[1;31mAttributeError\u001b[0m                            Traceback (most recent call last)",
      "\u001b[1;32m<ipython-input-42-4756b4e5701b>\u001b[0m in \u001b[0;36m<module>\u001b[1;34m\u001b[0m\n\u001b[1;32m----> 1\u001b[1;33m \u001b[0mnp\u001b[0m\u001b[1;33m.\u001b[0m\u001b[0mtwos\u001b[0m\u001b[1;33m(\u001b[0m\u001b[1;33m(\u001b[0m\u001b[1;36m5\u001b[0m\u001b[1;33m,\u001b[0m\u001b[1;36m2\u001b[0m\u001b[1;33m)\u001b[0m\u001b[1;33m)\u001b[0m\u001b[1;33m\u001b[0m\u001b[1;33m\u001b[0m\u001b[0m\n\u001b[0m",
      "\u001b[1;32m~\\anaconda3\\lib\\site-packages\\numpy\\__init__.py\u001b[0m in \u001b[0;36m__getattr__\u001b[1;34m(attr)\u001b[0m\n\u001b[0;32m    212\u001b[0m                 \u001b[1;32mreturn\u001b[0m \u001b[0mTester\u001b[0m\u001b[1;33m\u001b[0m\u001b[1;33m\u001b[0m\u001b[0m\n\u001b[0;32m    213\u001b[0m             \u001b[1;32melse\u001b[0m\u001b[1;33m:\u001b[0m\u001b[1;33m\u001b[0m\u001b[1;33m\u001b[0m\u001b[0m\n\u001b[1;32m--> 214\u001b[1;33m                 raise AttributeError(\"module {!r} has no attribute \"\n\u001b[0m\u001b[0;32m    215\u001b[0m                                      \"{!r}\".format(__name__, attr))\n\u001b[0;32m    216\u001b[0m \u001b[1;33m\u001b[0m\u001b[0m\n",
      "\u001b[1;31mAttributeError\u001b[0m: module 'numpy' has no attribute 'twos'"
     ]
    }
   ],
   "source": [
    "np.twos((5,2))"
   ]
  },
  {
   "cell_type": "code",
   "execution_count": null,
   "id": "e8551f43",
   "metadata": {},
   "outputs": [],
   "source": []
  }
 ],
 "metadata": {
  "kernelspec": {
   "display_name": "Python 3 (ipykernel)",
   "language": "python",
   "name": "python3"
  },
  "language_info": {
   "codemirror_mode": {
    "name": "ipython",
    "version": 3
   },
   "file_extension": ".py",
   "mimetype": "text/x-python",
   "name": "python",
   "nbconvert_exporter": "python",
   "pygments_lexer": "ipython3",
   "version": "3.9.13"
  }
 },
 "nbformat": 4,
 "nbformat_minor": 5
}
